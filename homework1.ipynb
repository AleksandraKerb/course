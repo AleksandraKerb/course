{
 "cells": [
  {
   "cell_type": "markdown",
   "id": "f72a4aeb-2823-4d3a-892a-04e8d83318e0",
   "metadata": {},
   "source": [
    "Написать программу которая: \n",
    "1. Высчитывает возраст из заданых данных (current_year - нынешний год, year_of_birth - год рождения)\n",
    "2. Найти недостающую часть кода (code_2)\n",
    "    + найдите остаток от x деленого на y\n",
    "    + полученый результ умножьте на 13\n",
    "    + извлеките квадратный корень из полученного результата (аналогично возведению в степень 0.5)\n",
    "    + возьмите целую часть от результата\n",
    "3. Соединить код в отдельную переменную\\\n",
    "    пример:\\\n",
    "    475-12-967\n",
    "4. Вывести строку используя доступные переменные:\\\n",
    "    пример:\\\n",
    "    Hello Mary Gold. You are 26 years old. Your secret code is 475-12-967."
   ]
  },
  {
   "cell_type": "code",
   "execution_count": 10,
   "id": "c82683eb-c4a8-46c6-a3f9-ea572a14f00b",
   "metadata": {},
   "outputs": [
    {
     "data": {
      "text/plain": [
       "34"
      ]
     },
     "execution_count": 10,
     "metadata": {},
     "output_type": "execute_result"
    }
   ],
   "source": [
    "# years\n",
    "current_year = 2022\n",
    "year_of_birth = 1988\n",
    "age = int()\n",
    "age = current_year - year_of_birth\n",
    "age"
   ]
  },
  {
   "cell_type": "code",
   "execution_count": 11,
   "id": "9e40832d-6319-4dfe-aaf6-0d8e7b733269",
   "metadata": {},
   "outputs": [
    {
     "data": {
      "text/plain": [
       "34"
      ]
     },
     "execution_count": 11,
     "metadata": {},
     "output_type": "execute_result"
    }
   ],
   "source": [
    "# code parts\n",
    "code_1 = '354'\n",
    "code_3 = 132\n",
    "code_1 = int (code_1)\n",
    "code_2 = (((code_1 % code_3)*13 )**0.5)\n",
    "code_2 = int(code_2)\n",
    "code_2"
   ]
  },
  {
   "cell_type": "code",
   "execution_count": 2,
   "id": "e02c0f26-29be-4af8-b499-90717f67cdb0",
   "metadata": {},
   "outputs": [],
   "source": [
    "# name\n",
    "user_name = 'John'\n",
    "user_surname = 'Smith'"
   ]
  },
  {
   "cell_type": "code",
   "execution_count": 15,
   "id": "3503daad-5422-4e8d-93f4-284326d34354",
   "metadata": {},
   "outputs": [
    {
     "name": "stdout",
     "output_type": "stream",
     "text": [
      "152-34-132\n"
     ]
    }
   ],
   "source": [
    "# code 2 data\n",
    "x = 152\n",
    "y = 132\n",
    "z = str()\n",
    "z = (str(x) + '-' + str(age) + '-' + str(y))\n",
    "print(z)\n"
   ]
  },
  {
   "cell_type": "code",
   "execution_count": 20,
   "id": "20bc6e3f-84fd-4233-a56a-664b2c1adc3d",
   "metadata": {},
   "outputs": [
    {
     "name": "stdout",
     "output_type": "stream",
     "text": [
      "Hello John Smith. You are 34 years old. Your secret code is 152-34-132.\n"
     ]
    }
   ],
   "source": [
    "print('Hello '+ user_name + ' ' + user_surname + '.' + ' You are '+ str(age) + ' years old. Your secret code is ' + z + '.')"
   ]
  },
  {
   "cell_type": "code",
   "execution_count": null,
   "id": "04b60813-7000-424a-8a5e-9466c97a09ad",
   "metadata": {},
   "outputs": [],
   "source": []
  },
  {
   "cell_type": "code",
   "execution_count": null,
   "id": "c79ef8b8-b352-4772-8b3d-40ac115784ce",
   "metadata": {},
   "outputs": [],
   "source": []
  }
 ],
 "metadata": {
  "kernelspec": {
   "display_name": "Python 3 (ipykernel)",
   "language": "python",
   "name": "python3"
  },
  "language_info": {
   "codemirror_mode": {
    "name": "ipython",
    "version": 3
   },
   "file_extension": ".py",
   "mimetype": "text/x-python",
   "name": "python",
   "nbconvert_exporter": "python",
   "pygments_lexer": "ipython3",
   "version": "3.11.1"
  }
 },
 "nbformat": 4,
 "nbformat_minor": 5
}
